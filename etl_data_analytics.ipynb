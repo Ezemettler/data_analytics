{
 "cells": [
  {
   "cell_type": "code",
   "execution_count": 11,
   "metadata": {},
   "outputs": [
    {
     "name": "stdout",
     "output_type": "stream",
     "text": [
      "dimension_headers {\n",
      "  name: \"date\"\n",
      "}\n",
      "metric_headers {\n",
      "  name: \"engagedSessions\"\n",
      "  type_: TYPE_INTEGER\n",
      "}\n",
      "metadata {\n",
      "  currency_code: \"USD\"\n",
      "  time_zone: \"America/Buenos_Aires\"\n",
      "}\n",
      "kind: \"analyticsData#runReport\"\n",
      "\n"
     ]
    }
   ],
   "source": [
    "from google.oauth2 import service_account\n",
    "from google.analytics.data_v1beta import BetaAnalyticsDataClient\n",
    "from google.auth import exceptions\n",
    "from google.analytics.data_v1beta.types import DateRange, Metric, Dimension, RunReportRequest\n",
    "\n",
    "# Ruta al archivo JSON con las credenciales de la cuenta de servicio\n",
    "KEY_FILE_LOCATION = 'C:\\\\Users\\\\ehmet\\\\OneDrive\\\\Escritorio\\\\Proyectos de data\\\\data_analytics\\\\data-analytics-project-409620-abc0407700dd.json'  # Actualiza la ruta\n",
    "\n",
    "# ID de la propiedad de Google Analytics 4\n",
    "PROPERTY_ID = '421423594'  # Reemplaza con tu identificador de propiedad\n",
    "\n",
    "# Configurar las credenciales\n",
    "try:\n",
    "    credentials = service_account.Credentials.from_service_account_file(\n",
    "        KEY_FILE_LOCATION,\n",
    "        scopes=['https://www.googleapis.com/auth/analytics.readonly']\n",
    "    )\n",
    "except exceptions.GoogleAuthError as auth_error:\n",
    "    print(f\"Error de autenticación: {auth_error}\")\n",
    "    raise\n",
    "\n",
    "# Crear un cliente de Google Analytics Data API\n",
    "client = BetaAnalyticsDataClient(credentials=credentials)\n",
    "\n",
    "try:\n",
    "    # Realizar una consulta de ejemplo\n",
    "    response = client.run_report(\n",
    "        request=RunReportRequest(\n",
    "            property=f'properties/{PROPERTY_ID}',\n",
    "            date_ranges=[DateRange(start_date='2023-01-01', end_date='2023-01-07')],\n",
    "            dimensions=[Dimension(name='date')],\n",
    "            metrics=[Metric(name='engagedSessions')],\n",
    "        )\n",
    "    )\n",
    "\n",
    "    # Imprimir la respuesta\n",
    "    print(response)\n",
    "\n",
    "except Exception as e:\n",
    "    # Imprimir información de error\n",
    "    print(f\"Error: {e}\")\n"
   ]
  }
 ],
 "metadata": {
  "kernelspec": {
   "display_name": "Python 3",
   "language": "python",
   "name": "python3"
  },
  "language_info": {
   "codemirror_mode": {
    "name": "ipython",
    "version": 3
   },
   "file_extension": ".py",
   "mimetype": "text/x-python",
   "name": "python",
   "nbconvert_exporter": "python",
   "pygments_lexer": "ipython3",
   "version": "3.10.5"
  }
 },
 "nbformat": 4,
 "nbformat_minor": 2
}
