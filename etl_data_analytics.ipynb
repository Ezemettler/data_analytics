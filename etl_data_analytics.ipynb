{
 "cells": [
  {
   "cell_type": "code",
   "execution_count": 1,
   "metadata": {},
   "outputs": [
    {
     "name": "stdout",
     "output_type": "stream",
     "text": [
      "Error: <HttpError 403 when requesting https://analyticsreporting.googleapis.com/v4/reports:batchGet?alt=json returned \"Analytics Reporting API has not been used in project 250391785256 before or it is disabled. Enable it by visiting https://console.developers.google.com/apis/api/analyticsreporting.googleapis.com/overview?project=250391785256 then retry. If you enabled this API recently, wait a few minutes for the action to propagate to our systems and retry.\". Details: \"[{'@type': 'type.googleapis.com/google.rpc.Help', 'links': [{'description': 'Google developers console API activation', 'url': 'https://console.developers.google.com/apis/api/analyticsreporting.googleapis.com/overview?project=250391785256'}]}, {'@type': 'type.googleapis.com/google.rpc.ErrorInfo', 'reason': 'SERVICE_DISABLED', 'domain': 'googleapis.com', 'metadata': {'consumer': 'projects/250391785256', 'service': 'analyticsreporting.googleapis.com'}}]\">\n"
     ]
    }
   ],
   "source": [
    "from google.oauth2 import service_account\n",
    "from googleapiclient.discovery import build\n",
    "import os\n",
    "\n",
    "# Ruta al archivo JSON con las credenciales de la cuenta de servicio\n",
    "KEY_FILE_LOCATION = os.path.join(os.getcwd(), 'credenciales.json')\n",
    "\n",
    "# ID de la vista de Google Analytics\n",
    "VIEW_ID = '92320289'\n",
    "\n",
    "# Configurar las credenciales\n",
    "credentials = service_account.Credentials.from_service_account_file(\n",
    "    KEY_FILE_LOCATION,\n",
    "    scopes=['https://www.googleapis.com/auth/analytics.readonly']\n",
    ")\n",
    "\n",
    "# Crear un servicio de Google Analytics\n",
    "analytics = build('analyticsreporting', 'v4', credentials=credentials)\n",
    "\n",
    "try:\n",
    "    # Realizar una consulta de ejemplo\n",
    "    response = analytics.reports().batchGet(\n",
    "        body={\n",
    "            'reportRequests': [\n",
    "                {\n",
    "                    'viewId': VIEW_ID,\n",
    "                    'dateRanges': [{'startDate': '7daysAgo', 'endDate': 'today'}],\n",
    "                    'metrics': [{'expression': 'ga:sessions'}],\n",
    "                    'dimensions': [{'name': 'ga:browser'}]\n",
    "                }\n",
    "            ]\n",
    "        }\n",
    "    ).execute()\n",
    "    # Imprimir la respuesta\n",
    "    print(response)\n",
    "except Exception as e:\n",
    "    # Imprimir información de error\n",
    "    print(f\"Error: {e}\")"
   ]
  }
 ],
 "metadata": {
  "kernelspec": {
   "display_name": "Python 3",
   "language": "python",
   "name": "python3"
  },
  "language_info": {
   "codemirror_mode": {
    "name": "ipython",
    "version": 3
   },
   "file_extension": ".py",
   "mimetype": "text/x-python",
   "name": "python",
   "nbconvert_exporter": "python",
   "pygments_lexer": "ipython3",
   "version": "3.10.5"
  }
 },
 "nbformat": 4,
 "nbformat_minor": 2
}
